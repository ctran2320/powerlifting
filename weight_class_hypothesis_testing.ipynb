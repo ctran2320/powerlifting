{
 "cells": [
  {
   "cell_type": "code",
   "execution_count": 3,
   "metadata": {},
   "outputs": [],
   "source": [
    "import pandas as pd\n",
    "import os\n",
    "from matplotlib import pyplot as plt\n",
    "import seaborn as sns\n",
    "from scipy import stats\n",
    "import numpy as np\n",
    "import warnings\n",
    "warnings.simplefilter('ignore')\n",
    "sns.set()\n",
    "os.chdir(os.getcwd() +'/data')\n",
    "df_uspa = pd.read_csv('uspa.csv').drop('Unnamed: 0',axis=1)"
   ]
  },
  {
   "cell_type": "markdown",
   "metadata": {},
   "source": [
    "# Causal Inference With Powerlifting Data:\n",
    "## <i> Does weighing in close to your bodyweight limit have an affect on performance? </i>"
   ]
  },
  {
   "cell_type": "markdown",
   "metadata": {},
   "source": [
    "First, we have to define the scope of our dataset and try out best to take care of some of the largest potential confounder variables. \n",
    "We'll only look at one weight class and one gender to keep the scale of our data consistent. If we include all weight classes, it is clear that the totals will vary drastically and there is a significant difference between genders as well on average. We'll filter our dataset by the following:\n",
    "- 67.5 kg weight class, \n",
    "- Male lifters, \n",
    "- People who compete in \"Full-Power\" events\n",
    "- Lifters between the ages of 17 and 35. We narrow our age to this range because most of our data lies within this range (~81%) and we don't want to include too young or too old lifters which can potentially skew the data with \"low\" totals. \n",
    "- We also filter out lifters who disqualified or were a no show and only filter for lifters who competed \"raw\". \n",
    "\n",
    "This attempts to control for potential confoudner variables such as <b> Age, Gender and Weight </b>.\n",
    "    \n",
    "<H4> We will define \"weighing in close to your bodywight limit\" as weighing in 2 pounds or less under the limit. </H4>\n",
    "    \n",
    "For the 67.5 kg weight class, that range will be <b> 146.8 pounds - 148.8 pounds </b>. We will consider the other group as lifters who weighed in 2 - 8 pounds under the limit. This range is <b> 140.8 pounds - 146.8 pounds </b>. \n",
    "    \n",
    "We won't look at lifters who weighed in more than 8 pounds under the limit as that is relatively a large difference in weight between the two groups. Instead we want to look at whether or not its beneficial to weigh in as close to the body weight limit and potentially have to cut weight before the meet, or can you perform just as well if you were several pounds under and not have to worry about losing weight."
   ]
  },
  {
   "cell_type": "code",
   "execution_count": 4,
   "metadata": {},
   "outputs": [
    {
     "data": {
      "text/html": [
       "<div>\n",
       "<style scoped>\n",
       "    .dataframe tbody tr th:only-of-type {\n",
       "        vertical-align: middle;\n",
       "    }\n",
       "\n",
       "    .dataframe tbody tr th {\n",
       "        vertical-align: top;\n",
       "    }\n",
       "\n",
       "    .dataframe thead th {\n",
       "        text-align: right;\n",
       "    }\n",
       "</style>\n",
       "<table border=\"1\" class=\"dataframe\">\n",
       "  <thead>\n",
       "    <tr style=\"text-align: right;\">\n",
       "      <th></th>\n",
       "      <th>Division</th>\n",
       "      <th>Lifter Name</th>\n",
       "      <th>Place</th>\n",
       "      <th>Sex</th>\n",
       "      <th>Age</th>\n",
       "      <th>Equip</th>\n",
       "      <th>Weight Class</th>\n",
       "      <th>Weight (KG)</th>\n",
       "      <th>Squat (KG)</th>\n",
       "      <th>Bench (KG)</th>\n",
       "      <th>...</th>\n",
       "      <th>Competition</th>\n",
       "      <th>Age Division</th>\n",
       "      <th>Division Category</th>\n",
       "      <th>Squat (LB)</th>\n",
       "      <th>Bench (LB)</th>\n",
       "      <th>Deadlift (LB)</th>\n",
       "      <th>Total (LB)</th>\n",
       "      <th>Weight (LB)</th>\n",
       "      <th>Date Refreshed</th>\n",
       "      <th>Classification</th>\n",
       "    </tr>\n",
       "  </thead>\n",
       "  <tbody>\n",
       "    <tr>\n",
       "      <th>13</th>\n",
       "      <td>Men Raw 67.5 Open</td>\n",
       "      <td>Reynaldo Desenganio</td>\n",
       "      <td>1</td>\n",
       "      <td>M</td>\n",
       "      <td>28.0</td>\n",
       "      <td>Raw</td>\n",
       "      <td>67.5</td>\n",
       "      <td>65.5</td>\n",
       "      <td>137.5</td>\n",
       "      <td>125.0</td>\n",
       "      <td>...</td>\n",
       "      <td>Camp Pendleton Powerlifting Championship</td>\n",
       "      <td>Open</td>\n",
       "      <td>Full-Power</td>\n",
       "      <td>303.135610</td>\n",
       "      <td>275.577828</td>\n",
       "      <td>402.343628</td>\n",
       "      <td>981.057066</td>\n",
       "      <td>144.402782</td>\n",
       "      <td>2022-09-15</td>\n",
       "      <td>Class II</td>\n",
       "    </tr>\n",
       "    <tr>\n",
       "      <th>14</th>\n",
       "      <td>Men Raw 67.5 Open</td>\n",
       "      <td>Scott Leonardson</td>\n",
       "      <td>2</td>\n",
       "      <td>M</td>\n",
       "      <td>29.0</td>\n",
       "      <td>Raw</td>\n",
       "      <td>67.5</td>\n",
       "      <td>66.7</td>\n",
       "      <td>132.5</td>\n",
       "      <td>87.5</td>\n",
       "      <td>...</td>\n",
       "      <td>Camp Pendleton Powerlifting Championship</td>\n",
       "      <td>Open</td>\n",
       "      <td>Full-Power</td>\n",
       "      <td>292.112497</td>\n",
       "      <td>192.904479</td>\n",
       "      <td>341.716506</td>\n",
       "      <td>826.733482</td>\n",
       "      <td>147.048329</td>\n",
       "      <td>2022-09-15</td>\n",
       "      <td>Class III</td>\n",
       "    </tr>\n",
       "    <tr>\n",
       "      <th>24</th>\n",
       "      <td>Men Raw 67.5 Submasters 35-39</td>\n",
       "      <td>Matt Kinsell</td>\n",
       "      <td>1</td>\n",
       "      <td>M</td>\n",
       "      <td>35.0</td>\n",
       "      <td>Raw</td>\n",
       "      <td>67.5</td>\n",
       "      <td>66.1</td>\n",
       "      <td>165.0</td>\n",
       "      <td>128.0</td>\n",
       "      <td>...</td>\n",
       "      <td>Camp Pendleton Powerlifting Championship</td>\n",
       "      <td>Submasters 35-39</td>\n",
       "      <td>Full-Power</td>\n",
       "      <td>363.762732</td>\n",
       "      <td>282.191695</td>\n",
       "      <td>413.366741</td>\n",
       "      <td>1052.707301</td>\n",
       "      <td>145.725555</td>\n",
       "      <td>2022-09-15</td>\n",
       "      <td>NaN</td>\n",
       "    </tr>\n",
       "    <tr>\n",
       "      <th>115</th>\n",
       "      <td>Men Raw 67.5 Juniors 20-23</td>\n",
       "      <td>Michael Leininger</td>\n",
       "      <td>1</td>\n",
       "      <td>M</td>\n",
       "      <td>20.0</td>\n",
       "      <td>Raw</td>\n",
       "      <td>67.5</td>\n",
       "      <td>63.1</td>\n",
       "      <td>70.0</td>\n",
       "      <td>80.0</td>\n",
       "      <td>...</td>\n",
       "      <td>Central California Powerlifting Championships</td>\n",
       "      <td>Junior 20-23</td>\n",
       "      <td>Full-Power</td>\n",
       "      <td>154.323583</td>\n",
       "      <td>176.369810</td>\n",
       "      <td>303.135610</td>\n",
       "      <td>633.829003</td>\n",
       "      <td>139.111687</td>\n",
       "      <td>2022-09-15</td>\n",
       "      <td>NaN</td>\n",
       "    </tr>\n",
       "    <tr>\n",
       "      <th>354</th>\n",
       "      <td>Men Raw 67.5 Juniors 18-19</td>\n",
       "      <td>Ian S Krieger</td>\n",
       "      <td>1</td>\n",
       "      <td>M</td>\n",
       "      <td>18.0</td>\n",
       "      <td>Raw</td>\n",
       "      <td>67.5</td>\n",
       "      <td>67.5</td>\n",
       "      <td>150.0</td>\n",
       "      <td>107.5</td>\n",
       "      <td>...</td>\n",
       "      <td>New York State Powerlifting Championship</td>\n",
       "      <td>Junior 18-19</td>\n",
       "      <td>Full-Power</td>\n",
       "      <td>330.693393</td>\n",
       "      <td>236.996932</td>\n",
       "      <td>369.274289</td>\n",
       "      <td>936.964614</td>\n",
       "      <td>148.812027</td>\n",
       "      <td>2022-09-15</td>\n",
       "      <td>NaN</td>\n",
       "    </tr>\n",
       "  </tbody>\n",
       "</table>\n",
       "<p>5 rows × 29 columns</p>\n",
       "</div>"
      ],
      "text/plain": [
       "                          Division          Lifter Name Place Sex   Age Equip  \\\n",
       "13               Men Raw 67.5 Open  Reynaldo Desenganio     1   M  28.0   Raw   \n",
       "14               Men Raw 67.5 Open     Scott Leonardson     2   M  29.0   Raw   \n",
       "24   Men Raw 67.5 Submasters 35-39         Matt Kinsell     1   M  35.0   Raw   \n",
       "115     Men Raw 67.5 Juniors 20-23    Michael Leininger     1   M  20.0   Raw   \n",
       "354     Men Raw 67.5 Juniors 18-19        Ian S Krieger     1   M  18.0   Raw   \n",
       "\n",
       "    Weight Class  Weight (KG)  Squat (KG)  Bench (KG)  ...  \\\n",
       "13          67.5         65.5       137.5       125.0  ...   \n",
       "14          67.5         66.7       132.5        87.5  ...   \n",
       "24          67.5         66.1       165.0       128.0  ...   \n",
       "115         67.5         63.1        70.0        80.0  ...   \n",
       "354         67.5         67.5       150.0       107.5  ...   \n",
       "\n",
       "                                       Competition      Age Division  \\\n",
       "13        Camp Pendleton Powerlifting Championship              Open   \n",
       "14        Camp Pendleton Powerlifting Championship              Open   \n",
       "24        Camp Pendleton Powerlifting Championship  Submasters 35-39   \n",
       "115  Central California Powerlifting Championships      Junior 20-23   \n",
       "354       New York State Powerlifting Championship      Junior 18-19   \n",
       "\n",
       "     Division Category  Squat (LB)  Bench (LB) Deadlift (LB)   Total (LB)  \\\n",
       "13          Full-Power  303.135610  275.577828    402.343628   981.057066   \n",
       "14          Full-Power  292.112497  192.904479    341.716506   826.733482   \n",
       "24          Full-Power  363.762732  282.191695    413.366741  1052.707301   \n",
       "115         Full-Power  154.323583  176.369810    303.135610   633.829003   \n",
       "354         Full-Power  330.693393  236.996932    369.274289   936.964614   \n",
       "\n",
       "    Weight (LB)  Date Refreshed Classification  \n",
       "13   144.402782      2022-09-15       Class II  \n",
       "14   147.048329      2022-09-15      Class III  \n",
       "24   145.725555      2022-09-15            NaN  \n",
       "115  139.111687      2022-09-15            NaN  \n",
       "354  148.812027      2022-09-15            NaN  \n",
       "\n",
       "[5 rows x 29 columns]"
      ]
     },
     "execution_count": 4,
     "metadata": {},
     "output_type": "execute_result"
    }
   ],
   "source": [
    "## Filter dataset as outlined above\n",
    "subset = df_uspa[(df_uspa['Weight Class'] == '67.5') & (df_uspa.Sex=='M') & (df_uspa['Division Category']==\n",
    "                                    'Full-Power') &(df_uspa.Age.between(17,35)) & (~df_uspa.Place.isin(['DQ','NS'])) & (df_uspa.Equip=='Raw')]\n",
    "subset.head()\n"
   ]
  },
  {
   "cell_type": "code",
   "execution_count": 5,
   "metadata": {},
   "outputs": [
    {
     "data": {
      "text/plain": [
       "count    2874.000000\n",
       "mean      145.143869\n",
       "std         3.294624\n",
       "min       132.497819\n",
       "25%       143.741395\n",
       "50%       146.166480\n",
       "75%       147.489253\n",
       "max       148.812027\n",
       "Name: Weight (LB), dtype: float64"
      ]
     },
     "execution_count": 5,
     "metadata": {},
     "output_type": "execute_result"
    },
    {
     "data": {
      "image/png": "[encoded data removed]",
      "text/plain": [
       "<Figure size 432x288 with 1 Axes>"
      ]
     },
     "metadata": {},
     "output_type": "display_data"
    }
   ],
   "source": [
    "# Plot distribution of Weight\n",
    "plt.hist(subset['Weight (LB)'])\n",
    "plt.xlabel('Weight (LBs)')\n",
    "plt.ylabel('Count')\n",
    "plt.title('Distribution of Weight')\n",
    "subset['Weight (LB)'].describe()\n"
   ]
  },
  {
   "cell_type": "code",
   "execution_count": 6,
   "metadata": {},
   "outputs": [
    {
     "name": "stdout",
     "output_type": "stream",
     "text": [
      "Mean Total of those who weighed in 2 pounds or less under the BW Limit: 1078.897440816087\n",
      "Mean Total of those who weighed in more than 5-8 pounds under the BW Limit: 991.565767055333\n"
     ]
    }
   ],
   "source": [
    "## Assign labels and print statistic\n",
    "subset['close_bw'] = subset['Weight (LB)'].apply(lambda x: x >=146.812027)\n",
    "subset['not_close_bw'] = subset['Weight (LB)'].apply(lambda x: x> 140.812027 and x <145.812027)\n",
    "\n",
    "print('Mean Total of those who weighed in 2 pounds or less under the BW Limit: ' + str(subset[subset.close_bw==True]['Total (LB)'].mean()))\n",
    "print('Mean Total of those who weighed in more than 5-8 pounds under the BW Limit: ' + str(subset[subset.not_close_bw==True]['Total (LB)'].mean()))\n",
    "\n",
    "## Create dataframe of the two different groups and assign labels\n",
    "## True = Close to BW Limit, False = Not Close to BW Limit\n",
    "data = pd.concat([subset[subset.close_bw==True][['close_bw','Total (LB)']],subset[subset.not_close_bw==True][['not_close_bw','Total (LB)']]]\n",
    "         ).fillna(False).drop('not_close_bw',axis=1).reset_index().drop('index',axis=1)\n",
    "group1 = data[data.close_bw==True]['Total (LB)']\n",
    "group2 = data[data.close_bw==False]['Total (LB)']"
   ]
  },
  {
   "cell_type": "markdown",
   "metadata": {},
   "source": [
    "<p> We can see that most of the lifters weighed in over 140 pounds.\n",
    "<H4> Now we'll look at the distribution of the totals in pounds of lifters who weighed in close to their body weight and those who didn't. "
   ]
  },
  {
   "cell_type": "code",
   "execution_count": 7,
   "metadata": {},
   "outputs": [
    {
     "data": {
      "text/plain": [
       "Text(0.5, 1.0, 'Overlaid Histogram of Distributions')"
      ]
     },
     "execution_count": 7,
     "metadata": {},
     "output_type": "execute_result"
    },
    {
     "data": {
      "image/png": "[encoded data removed]",
      "text/plain": [
       "<Figure size 432x288 with 1 Axes>"
      ]
     },
     "metadata": {},
     "output_type": "display_data"
    }
   ],
   "source": [
    "## Look at distributions\n",
    "sns.histplot(data=data, x='Total (LB)', hue='close_bw', kde=True)\n",
    "plt.title('Overlaid Histogram of Distributions')"
   ]
  },
  {
   "cell_type": "markdown",
   "metadata": {},
   "source": [
    "<p> The distribution of total's of lifters who weighed in close to their BW appears to be based slightly to the right of the distribution corresponding to lifters who did not weigh in close to the limit. The totals of the heavier lifters seem higher on average than the totals of the lighter lifters. \n",
    "    \n",
    "<p> This raises the question of whether the difference demonstrates just chance variation or a difference in the distributions in the larger population. Perhaps there is actually no difference between the two distributions in the population, but we are seeing a difference in the samples just because of the lifters in our sample. \n",
    "    \n",
    "<H3> We can attempt to answer this question by a test of hypotheses. The chance model that we will test says that there is no underlying difference in the populations; the distributions in the samples are different just due to chance.</H3>\n",
    "\n",
    "<p> <b> Null hypothesis (H0): </b> In the population, the distribution of totals in pounds is the same for lifters who weigh in close to their BW limit and for lifters who don't. The difference in the sample is due to chance.\n",
    "\n",
    "<b> Alternative hypothesis (H1):</b> In the population, the totals of lifters who weigh in close to their BW limit are <b> higher </b> on average, than the totals of those who don't weigh in close to their BW limit\n",
    "\n",
    "We will use a threshold p-value of 0.05"
   ]
  },
  {
   "cell_type": "code",
   "execution_count": 8,
   "metadata": {},
   "outputs": [
    {
     "data": {
      "text/plain": [
       "(True     1135\n",
       " False    1035\n",
       " Name: close_bw, dtype: int64,\n",
       " 2170)"
      ]
     },
     "execution_count": 8,
     "metadata": {},
     "output_type": "execute_result"
    }
   ],
   "source": [
    "data.close_bw.value_counts(),data.shape[0]"
   ]
  },
  {
   "cell_type": "markdown",
   "metadata": {},
   "source": [
    "<p> There are 2,170 samples with 1,135 of them beimg classified as weighing in close to the limit and 1,035 as not. </p>\n",
    "\n",
    "<p>The alternative hypothesis compares the average total of the two groups and says that the average for lifters who weigh in close to their BW limit is higher. Therefore it is reasonable for us to use the difference between the two group means as our statistic.\n",
    "\n",
    "We will do the subtraction in the order “average total of those who weighed in close to the limit -  average total of those who didn't”. Large values (that is, large positive values) of this statistic will favor the alternative hypothesis.\n",
    "\n",
    "The observed value of the test statistic is about <b> 87 pounds </b>."
   ]
  },
  {
   "cell_type": "code",
   "execution_count": 9,
   "metadata": {},
   "outputs": [
    {
     "data": {
      "text/plain": [
       "(87.33167376075403, 87.33167376075403)"
      ]
     },
     "execution_count": 9,
     "metadata": {},
     "output_type": "execute_result"
    }
   ],
   "source": [
    "# Calclate observed difference\n",
    "observed_difference = group1.mean() - group2.mean()\n",
    "\n",
    "# We are going compute such differences repeatedly in our simulations below, so we will define a function to do the job. The function takes\n",
    "# two arguments:\n",
    "# The name of the table of data\n",
    "# The label of the column that contains the Boolean variable for grouping\n",
    "# It returns the difference between the means of the True group and the False group.\n",
    "def diff_means(data,label):\n",
    "    return data[data[label]==True]['Total (LB)'].mean() - data[data[label]==False]['Total (LB)'].mean()\n",
    "diff_means(data,'close_bw'),observed_difference"
   ]
  },
  {
   "cell_type": "markdown",
   "metadata": {},
   "source": [
    "<p> To see how the statistic should vary under the null hypothesis, we have to figure out how to simulate the statistic under that hypothesis. A clever method based on random permutations does just that.\n",
    "\n",
    "If there were no difference between the two distributions in the underlying population, then whether a lifter has the label True or False with respect to weighing in close to their limit should make no difference to the average. The idea, then, is to shuffle all the labels randomly among the lifters. This is called <b> random permutation. </b>\n",
    "\n",
    "Shuffling ensures that the count of True labels does not change, and nor does the count of False labels. This is important for the comparability of the simulated differences of means and the original difference of means.\n",
    "\n",
    "Take the difference of the two new group means: the mean total of the lifters who have been randomly labeled as weighing in close to the limit and the mean total of the lifters who have all been randomly labeled as those who didn't weigh in close to the limit. This is a simulated value of the test statistic under the null hypothesis.\n",
    "\n"
   ]
  },
  {
   "cell_type": "code",
   "execution_count": 10,
   "metadata": {},
   "outputs": [
    {
     "name": "stdout",
     "output_type": "stream",
     "text": [
      "Difference of the average total between the two randomly labeled groups: 0.46509659775688306\n"
     ]
    },
    {
     "data": {
      "text/html": [
       "<div>\n",
       "<style scoped>\n",
       "    .dataframe tbody tr th:only-of-type {\n",
       "        vertical-align: middle;\n",
       "    }\n",
       "\n",
       "    .dataframe tbody tr th {\n",
       "        vertical-align: top;\n",
       "    }\n",
       "\n",
       "    .dataframe thead th {\n",
       "        text-align: right;\n",
       "    }\n",
       "</style>\n",
       "<table border=\"1\" class=\"dataframe\">\n",
       "  <thead>\n",
       "    <tr style=\"text-align: right;\">\n",
       "      <th></th>\n",
       "      <th>close_bw</th>\n",
       "      <th>Total (LB)</th>\n",
       "      <th>shuffled_label</th>\n",
       "    </tr>\n",
       "  </thead>\n",
       "  <tbody>\n",
       "    <tr>\n",
       "      <th>0</th>\n",
       "      <td>True</td>\n",
       "      <td>826.733482</td>\n",
       "      <td>True</td>\n",
       "    </tr>\n",
       "    <tr>\n",
       "      <th>1</th>\n",
       "      <td>True</td>\n",
       "      <td>936.964614</td>\n",
       "      <td>True</td>\n",
       "    </tr>\n",
       "    <tr>\n",
       "      <th>2</th>\n",
       "      <td>True</td>\n",
       "      <td>1096.799753</td>\n",
       "      <td>True</td>\n",
       "    </tr>\n",
       "    <tr>\n",
       "      <th>3</th>\n",
       "      <td>True</td>\n",
       "      <td>1019.637962</td>\n",
       "      <td>True</td>\n",
       "    </tr>\n",
       "    <tr>\n",
       "      <th>4</th>\n",
       "      <td>True</td>\n",
       "      <td>848.779709</td>\n",
       "      <td>True</td>\n",
       "    </tr>\n",
       "  </tbody>\n",
       "</table>\n",
       "</div>"
      ],
      "text/plain": [
       "   close_bw   Total (LB)  shuffled_label\n",
       "0      True   826.733482            True\n",
       "1      True   936.964614            True\n",
       "2      True  1096.799753            True\n",
       "3      True  1019.637962            True\n",
       "4      True   848.779709            True"
      ]
     },
     "execution_count": 10,
     "metadata": {},
     "output_type": "execute_result"
    }
   ],
   "source": [
    "# To shuffle all the labels, draw a random sample of size length of the dataset without replacement. Then the sample will include all the \n",
    "# rows of the table, in random order\n",
    "data['shuffled_label'] = data.sample(n=len(data),replace=False).close_bw.values\n",
    "print('Difference of the average total between the two randomly labeled groups: ' + str(diff_means(data,'shuffled_label')))\n",
    "data.head()"
   ]
  },
  {
   "cell_type": "markdown",
   "metadata": {},
   "source": [
    "<p> The difference of the two averages are quite a bit closer than the averages of the two original groups. But could a different shuffle have resulted in a larger differences between the group averages? To get a sense of variability, we must simulate the difference many times."
   ]
  },
  {
   "cell_type": "code",
   "execution_count": 11,
   "metadata": {},
   "outputs": [],
   "source": [
    "# Create a function to return the difference between the mean totals of two groups formed by randomly shuffling all the labels. The function takes two argumetns:\n",
    "# The name of the table of data\n",
    "# The label of th ecolumn that contains the boolean variable for grouping\n",
    "def one_sim_diff_means(data, label):\n",
    "    data['shuffled_label'] = data.sample(n=len(data),replace=False)[label].values\n",
    "    return diff_means(data,'shuffled_label')"
   ]
  },
  {
   "cell_type": "code",
   "execution_count": 12,
   "metadata": {},
   "outputs": [
    {
     "data": {
      "text/plain": [
       "-3.835430611742595"
      ]
     },
     "execution_count": 12,
     "metadata": {},
     "output_type": "execute_result"
    }
   ],
   "source": [
    "one_sim_diff_means(data,'close_bw')"
   ]
  },
  {
   "cell_type": "markdown",
   "metadata": {},
   "source": [
    "<p> We will now simulate our test statistic many times, 10,000 times to be exact. We collect the differences in a list."
   ]
  },
  {
   "cell_type": "code",
   "execution_count": 13,
   "metadata": {},
   "outputs": [],
   "source": [
    "# Append test statistic to the list of \"differences\"\n",
    "differences = []\n",
    "repetitions = 10000\n",
    "for i in np.arange(repetitions):\n",
    "    differences.append(one_sim_diff_means(data,'close_bw'))"
   ]
  },
  {
   "cell_type": "code",
   "execution_count": 14,
   "metadata": {},
   "outputs": [
    {
     "name": "stdout",
     "output_type": "stream",
     "text": [
      "87.33167376075403\n"
     ]
    },
    {
     "data": {
      "image/png": "[encoded data removed]",
      "text/plain": [
       "<Figure size 432x288 with 1 Axes>"
      ]
     },
     "metadata": {},
     "output_type": "display_data"
    }
   ],
   "source": [
    "plt.hist(differences)\n",
    "plt.scatter(observed_difference, 0,c='r',label='Observed')\n",
    "plt.legend()\n",
    "plt.xlabel('Difference of Totals Between 2 Randomly Labeled Groups')\n",
    "plt.ylabel('Count')\n",
    "plt.title('Permutation Test')\n",
    "print(observed_difference)"
   ]
  },
  {
   "cell_type": "code",
   "execution_count": 15,
   "metadata": {},
   "outputs": [
    {
     "name": "stdout",
     "output_type": "stream",
     "text": [
      "P-Value: 0.0\n"
     ]
    }
   ],
   "source": [
    "print('P-Value: ' + str((pd.Series(differences) >= observed_difference).sum() / repetitions))"
   ]
  },
  {
   "cell_type": "markdown",
   "metadata": {},
   "source": [
    "<p> The histogram above shows the distribution of these 10,000 values. It is the empirical distribution of the test statistic simulated under the null hypothesis. The distribution is centered around 0, which makes sense because under the null hypothesis, the two groups should have roughly the same average. Therefore, the difference between the group averages should be around 0. The observed difference in the original sample is about 87 pounds, which is far to the right of the graph. The obesrved value of the statistic and the predicted behavior of the statistic under the null hypothesis are inconsistent. The conclusion of the test is that the data favors the alternative over the null, meaning that it supports the hypothesis that the average total of lifters who weigh in close to their BW limit are higher than those who weigh in at a lesser weight. The empirical p-value of 0 illustrates that none of the 10,000 permutated samples resulted in a difference of 87 pounds or more. However, it's important to note that this is only an approximation, the exact chance of getting a difference in that range is not 0, but extremely small. </p>\n",
    "\n",
    "<p> We can also conduct our analysis by using the t-test. The two sample t-test is used to test whether or not the means of two populations are equal. The t-test follows 4 assumptions that must be met: independence, normality, homogeneity of variances, and random sampling. We can say that the observations are independent from each other as in the weight of each lifter does not affect the weight of another lifter. The data was randomly sampled from the population of powerlifters who want to compete. We have alraedy seen the distributions of the two groups above which appeared to be normal and we won't conduct any formal tests for normality here. We will follow the rule of thumb for homogeneity: if the ratio of the larger variance to the smaller variance is less than four, then we can assume the variances are approximately equal."
   ]
  },
  {
   "cell_type": "code",
   "execution_count": 16,
   "metadata": {},
   "outputs": [
    {
     "name": "stdout",
     "output_type": "stream",
     "text": [
      "23969.096235015204 20774.34303606704\n",
      "ratio of larger variance to smaller variance:0.9144029315701426\n"
     ]
    },
    {
     "data": {
      "text/plain": [
       "Ttest_indResult(statistic=13.562706196218222, pvalue=1.3953526140833891e-40)"
      ]
     },
     "execution_count": 16,
     "metadata": {},
     "output_type": "execute_result"
    }
   ],
   "source": [
    "print(data[data.close_bw==True]['Total (LB)'].var(), data[data.close_bw==False]['Total (LB)'].var())\n",
    "print('ratio of larger variance to smaller variance:' + str(22957 / 25106))\n",
    "stats.ttest_ind(a=group1, b=group2,equal_var=True,alternative='greater')\n"
   ]
  },
  {
   "cell_type": "markdown",
   "metadata": {},
   "source": [
    "<p> Nice! We can see that the p-value of the two sample t-test was extremely small, thus supporting the conclusion from our permutation test above. \n",
    "    \n",
    "It is important to note that we are not saying that weighing in close to your body limit causes a lifter to achieve a higher total, we are simply stating that there is a statistical association. This actually makes sense intuitively since the heavier you are, the more you can lift typically. However, this hypothesis test wanted to explore more than just that. Since the USPA allows weigh-in's the day prior to the actual meet, it is common practice for lifters to do a water cut the week of the competition and weigh in as close to their weight limit as possible. Then, after they weigh in they're able to gain that weight back through hydration and food. Therefore, lifters may actually way significantly more than what the scale recorded on meet day. However, Those who weigh in about 2-8 pounds under the limit most likely did not have to do any significant weight cutting the week of competition and their body weight during meet day also most likely did not deviate a lot from what the scale recorded. There are pros and cons to both approach, but we can see here through the use of data that male lifters competing in full-power event in the 67.5 kg weight class, ages from 17-35 who weighed in close to their BW limit tended to achieve higher totals than those who didn't. However, we did not account for other potential confounding variables such as the experience of the lifters, how \"competitive\" they are in terms of being a professional or novice and the noted weight cut strategy mentioned above."
   ]
  },
  {
   "cell_type": "markdown",
   "metadata": {},
   "source": [
    "# Causal Inference With Powerlifting Data PT2:\n",
    "## <i> Does competing with other lifters in your same weight class affect your performance at a powerlifting meet? </i>"
   ]
  },
  {
   "cell_type": "markdown",
   "metadata": {},
   "source": [
    "We want to use the same method of permutation testing to compare the totals of lifters who competed solo in their weight class at a meet versus those who competed with other people. Similarily to how it is challenging for runners it Cross Country or Track & Field to perform their personal best running solo, I want to explore the effect of competition and if that can be associated with a higher total in average. Again, we are only looking at the 67.5 kg weight class, males, full-power events, and lifters between the ages of 17 and 35."
   ]
  },
  {
   "cell_type": "code",
   "execution_count": 17,
   "metadata": {},
   "outputs": [
    {
     "data": {
      "text/html": [
       "<div>\n",
       "<style scoped>\n",
       "    .dataframe tbody tr th:only-of-type {\n",
       "        vertical-align: middle;\n",
       "    }\n",
       "\n",
       "    .dataframe tbody tr th {\n",
       "        vertical-align: top;\n",
       "    }\n",
       "\n",
       "    .dataframe thead th {\n",
       "        text-align: right;\n",
       "    }\n",
       "</style>\n",
       "<table border=\"1\" class=\"dataframe\">\n",
       "  <thead>\n",
       "    <tr style=\"text-align: right;\">\n",
       "      <th></th>\n",
       "      <th>Date</th>\n",
       "      <th>Competition</th>\n",
       "      <th>num_lifters</th>\n",
       "    </tr>\n",
       "  </thead>\n",
       "  <tbody>\n",
       "    <tr>\n",
       "      <th>0</th>\n",
       "      <td>2010-10-23</td>\n",
       "      <td>Central California Powerlifting Championships</td>\n",
       "      <td>1</td>\n",
       "    </tr>\n",
       "    <tr>\n",
       "      <th>1</th>\n",
       "      <td>2010-12-11</td>\n",
       "      <td>Camp Pendleton Powerlifting Championship</td>\n",
       "      <td>4</td>\n",
       "    </tr>\n",
       "    <tr>\n",
       "      <th>2</th>\n",
       "      <td>2011-02-26</td>\n",
       "      <td>West Coast Open Championships</td>\n",
       "      <td>1</td>\n",
       "    </tr>\n",
       "    <tr>\n",
       "      <th>3</th>\n",
       "      <td>2011-04-09</td>\n",
       "      <td>State Championships</td>\n",
       "      <td>2</td>\n",
       "    </tr>\n",
       "    <tr>\n",
       "      <th>4</th>\n",
       "      <td>2011-04-10</td>\n",
       "      <td>State Championships</td>\n",
       "      <td>1</td>\n",
       "    </tr>\n",
       "  </tbody>\n",
       "</table>\n",
       "</div>"
      ],
      "text/plain": [
       "         Date                                    Competition  num_lifters\n",
       "0  2010-10-23  Central California Powerlifting Championships            1\n",
       "1  2010-12-11       Camp Pendleton Powerlifting Championship            4\n",
       "2  2011-02-26                  West Coast Open Championships            1\n",
       "3  2011-04-09                            State Championships            2\n",
       "4  2011-04-10                            State Championships            1"
      ]
     },
     "execution_count": 17,
     "metadata": {},
     "output_type": "execute_result"
    }
   ],
   "source": [
    "## Calculates how many people competed in the 67.5 kg weight class division for every meet\n",
    "num_lifters = df_uspa[(df_uspa['Weight Class'] == '67.5') & (df_uspa.Sex=='M') & (df_uspa.Age.between(17,35)) & (df_uspa['Division Category']==\n",
    "                'Full-Power')].groupby(['Date','Competition']).count().Division.reset_index().rename({\"Division\":'num_lifters'},axis=1)\n",
    "num_lifters.head()"
   ]
  },
  {
   "cell_type": "code",
   "execution_count": 18,
   "metadata": {},
   "outputs": [
    {
     "data": {
      "text/html": [
       "<div>\n",
       "<style scoped>\n",
       "    .dataframe tbody tr th:only-of-type {\n",
       "        vertical-align: middle;\n",
       "    }\n",
       "\n",
       "    .dataframe tbody tr th {\n",
       "        vertical-align: top;\n",
       "    }\n",
       "\n",
       "    .dataframe thead th {\n",
       "        text-align: right;\n",
       "    }\n",
       "</style>\n",
       "<table border=\"1\" class=\"dataframe\">\n",
       "  <thead>\n",
       "    <tr style=\"text-align: right;\">\n",
       "      <th></th>\n",
       "      <th>Competition</th>\n",
       "      <th>Weight Class</th>\n",
       "      <th>Lifter Name</th>\n",
       "      <th>Age Division</th>\n",
       "      <th>num_lifters</th>\n",
       "    </tr>\n",
       "  </thead>\n",
       "  <tbody>\n",
       "    <tr>\n",
       "      <th>0</th>\n",
       "      <td>Camp Pendleton Powerlifting Championship</td>\n",
       "      <td>67.5</td>\n",
       "      <td>Reynaldo Desenganio</td>\n",
       "      <td>Open</td>\n",
       "      <td>False</td>\n",
       "    </tr>\n",
       "    <tr>\n",
       "      <th>1</th>\n",
       "      <td>Camp Pendleton Powerlifting Championship</td>\n",
       "      <td>67.5</td>\n",
       "      <td>Scott Leonardson</td>\n",
       "      <td>Open</td>\n",
       "      <td>False</td>\n",
       "    </tr>\n",
       "    <tr>\n",
       "      <th>2</th>\n",
       "      <td>Camp Pendleton Powerlifting Championship</td>\n",
       "      <td>67.5</td>\n",
       "      <td>Matt Kinsell</td>\n",
       "      <td>Submasters 35-39</td>\n",
       "      <td>False</td>\n",
       "    </tr>\n",
       "    <tr>\n",
       "      <th>3</th>\n",
       "      <td>Central California Powerlifting Championships</td>\n",
       "      <td>67.5</td>\n",
       "      <td>Michael Leininger</td>\n",
       "      <td>Junior 20-23</td>\n",
       "      <td>True</td>\n",
       "    </tr>\n",
       "    <tr>\n",
       "      <th>4</th>\n",
       "      <td>New York State Powerlifting Championship</td>\n",
       "      <td>67.5</td>\n",
       "      <td>Ian S Krieger</td>\n",
       "      <td>Junior 18-19</td>\n",
       "      <td>True</td>\n",
       "    </tr>\n",
       "  </tbody>\n",
       "</table>\n",
       "</div>"
      ],
      "text/plain": [
       "                                     Competition Weight Class  \\\n",
       "0       Camp Pendleton Powerlifting Championship         67.5   \n",
       "1       Camp Pendleton Powerlifting Championship         67.5   \n",
       "2       Camp Pendleton Powerlifting Championship         67.5   \n",
       "3  Central California Powerlifting Championships         67.5   \n",
       "4       New York State Powerlifting Championship         67.5   \n",
       "\n",
       "           Lifter Name      Age Division  num_lifters  \n",
       "0  Reynaldo Desenganio              Open        False  \n",
       "1     Scott Leonardson              Open        False  \n",
       "2         Matt Kinsell  Submasters 35-39        False  \n",
       "3    Michael Leininger      Junior 20-23         True  \n",
       "4        Ian S Krieger      Junior 18-19         True  "
      ]
     },
     "execution_count": 18,
     "metadata": {},
     "output_type": "execute_result"
    }
   ],
   "source": [
    "## The 'num_lifter' column outputs True if that person lifted solo or by himself at that meet, and outputs False if the lifter competed with more than 1 other person at that meet.\n",
    "subset = subset.merge(num_lifters,on=['Date','Competition'],how='inner')\n",
    "subset.loc[subset.num_lifters != 1, 'num_lifters'] = False\n",
    "subset['num_lifters'] = subset.num_lifters.replace({1:True})\n",
    "subset[['Competition','Weight Class','Lifter Name','Age Division','num_lifters']].head()\n"
   ]
  },
  {
   "cell_type": "code",
   "execution_count": 19,
   "metadata": {},
   "outputs": [
    {
     "data": {
      "text/plain": [
       "(False    2405\n",
       " True      469\n",
       " Name: num_lifters, dtype: int64,\n",
       " 2874)"
      ]
     },
     "execution_count": 19,
     "metadata": {},
     "output_type": "execute_result"
    }
   ],
   "source": [
    "subset.num_lifters.value_counts(),subset.shape[0]"
   ]
  },
  {
   "cell_type": "markdown",
   "metadata": {},
   "source": [
    "<p> Here we can see that our sample size is 2,868 with 2,405 who have competed with other lifters at the meet, and 469 lifters who competed solo. "
   ]
  },
  {
   "cell_type": "code",
   "execution_count": 20,
   "metadata": {},
   "outputs": [
    {
     "name": "stdout",
     "output_type": "stream",
     "text": [
      "Average Total for Solo Competitiors: 993.7381116184941\n",
      "Average Total for Those Who Competed With Others: 1028.4243683249285\n"
     ]
    },
    {
     "data": {
      "text/plain": [
       "(None, None)"
      ]
     },
     "execution_count": 20,
     "metadata": {},
     "output_type": "execute_result"
    }
   ],
   "source": [
    "group1 = subset[subset.num_lifters==True]['Total (LB)']\n",
    "group2 = subset[subset.num_lifters ==False]['Total (LB)']\n",
    "print('Average Total for Solo Competitiors: ' + str(group1.mean())), print('Average Total for Those Who Competed With Others: ' + str(group2.mean()))"
   ]
  },
  {
   "cell_type": "code",
   "execution_count": 21,
   "metadata": {},
   "outputs": [
    {
     "data": {
      "text/plain": [
       "<matplotlib.legend.Legend at 0x1c8cb6b4248>"
      ]
     },
     "execution_count": 21,
     "metadata": {},
     "output_type": "execute_result"
    },
    {
     "data": {
      "image/png": "[encoded data removed]",
      "text/plain": [
       "<Figure size 432x288 with 1 Axes>"
      ]
     },
     "metadata": {},
     "output_type": "display_data"
    }
   ],
   "source": [
    "## Look at distributions\n",
    "plt.hist([group1, group2],histtype='stepfilled',density = True, label=['Competed Solo','Competed with others'],alpha=0.5)\n",
    "plt.xlabel('Total (LBs)')\n",
    "plt.ylabel('Frequency')\n",
    "plt.title('Distribution of Totals For The Two Groups')\n",
    "plt.legend()\n"
   ]
  },
  {
   "cell_type": "code",
   "execution_count": 22,
   "metadata": {},
   "outputs": [
    {
     "name": "stdout",
     "output_type": "stream",
     "text": [
      "Observed Difference:  -34.68625670643439\n"
     ]
    },
    {
     "data": {
      "text/plain": [
       "-34.68625670643439"
      ]
     },
     "execution_count": 22,
     "metadata": {},
     "output_type": "execute_result"
    }
   ],
   "source": [
    "observed_difference = group1.mean() - group2.mean()\n",
    "print('Observed Difference: ',observed_difference)\n",
    "data = subset[['num_lifters','Total (LB)']]\n",
    "diff_means(data,'num_lifters')\n"
   ]
  },
  {
   "cell_type": "markdown",
   "metadata": {},
   "source": [
    "<p> The obesrved difference is about -34.68 pounds. The negative sign shows that the lifters who competed solo had a lower total than those who competed with others on average. Is this difference due to chance, or does it reflect an underlying difference in the population? As before, we can use a permutation test to answer this question. If the underlying distributions of the total in the two groups are the same, then the empirical distribution of the difference based on permuted samples will predict how the statistic should vary due to chance."
   ]
  },
  {
   "cell_type": "markdown",
   "metadata": {},
   "source": [
    "<p> <b> Null hypothesis (H0): </b> In the population, the distribution of totals in pounds is the same for lifters who competed solo and those who competed with others. The difference in the sample is due to chance.\n",
    "\n",
    "<b> Alternative hypothesis (H1):</b> In the population, the totals of lifters who competed with others in their weight class are higher on average, than the totals of those who competed solo.\n",
    "\n",
    "We will use a threshold p-value of 0.05"
   ]
  },
  {
   "cell_type": "code",
   "execution_count": 23,
   "metadata": {},
   "outputs": [
    {
     "data": {
      "text/plain": [
       "-8.21889027834311"
      ]
     },
     "execution_count": 23,
     "metadata": {},
     "output_type": "execute_result"
    }
   ],
   "source": [
    "## Reuse our function from earlier to calculate one simulated difference of means between the two randomly sampled groups\n",
    "one_sim_diff_means(data,'num_lifters')"
   ]
  },
  {
   "cell_type": "code",
   "execution_count": 24,
   "metadata": {},
   "outputs": [],
   "source": [
    "## Run the permuatation test 10,000 times\n",
    "differences = []\n",
    "repetitions = 10000\n",
    "for i in np.arange(repetitions):\n",
    "    differences.append(one_sim_diff_means(data,'num_lifters'))"
   ]
  },
  {
   "cell_type": "code",
   "execution_count": 25,
   "metadata": {},
   "outputs": [
    {
     "name": "stdout",
     "output_type": "stream",
     "text": [
      "-34.68625670643439\n"
     ]
    },
    {
     "data": {
      "image/png": "[encoded data removed]",
      "text/plain": [
       "<Figure size 432x288 with 1 Axes>"
      ]
     },
     "metadata": {},
     "output_type": "display_data"
    }
   ],
   "source": [
    "plt.hist(differences)\n",
    "plt.xlabel('Difference of Means')\n",
    "plt.ylabel('Count')\n",
    "plt.title(\"Permutation Testing\")\n",
    "plt.scatter(observed_difference, 0,c='r',label='Observed')\n",
    "plt.legend()\n",
    "print(observed_difference)"
   ]
  },
  {
   "cell_type": "code",
   "execution_count": 26,
   "metadata": {},
   "outputs": [
    {
     "data": {
      "text/plain": [
       "0.0"
      ]
     },
     "execution_count": 26,
     "metadata": {},
     "output_type": "execute_result"
    }
   ],
   "source": [
    "(pd.Series(differences) <= observed_difference).sum() / repetitions"
   ]
  },
  {
   "cell_type": "markdown",
   "metadata": {},
   "source": [
    "<p> <p> The histogram above shows the distribution of these 10,000 values. The observed difference in the original sample is about -34.68 pounds, which is on the left tail of the graph. The obesrved value of the statistic and the predicted behavior of the statistic under the null hypothesis are inconsistent. The empirical p-value is less than our threshold of 0.05, concluding that the data favors the alternative over the null, meaning that it supports the hypothesis that the average total of lifters who compete with others are higher than those who compete solo.</p>\n",
    "\n",
    "<p> Again, we can also conduct our analysis by using the t-test. We will test for homogengeneity of variances using the same method as before"
   ]
  },
  {
   "cell_type": "code",
   "execution_count": 27,
   "metadata": {},
   "outputs": [
    {
     "name": "stdout",
     "output_type": "stream",
     "text": [
      "26960.834510912737 25216.54500707012\n",
      "Ratio: 1.0649391564604418\n"
     ]
    },
    {
     "data": {
      "text/plain": [
       "Ttest_indResult(statistic=-4.303098306186523, pvalue=8.702719995413119e-06)"
      ]
     },
     "execution_count": 27,
     "metadata": {},
     "output_type": "execute_result"
    }
   ],
   "source": [
    "print(group1.var(), group2.var())\n",
    "print('Ratio: ' + str(27042/25393))\n",
    "stats.ttest_ind(a=group1, b=group2,equal_var=True,alternative='less')\n"
   ]
  },
  {
   "cell_type": "markdown",
   "metadata": {},
   "source": [
    "<p> The 2 sample t-test gives us a p-value of 0.0005, validating the results of our permutation test from above. Nice!\n",
    "    \n",
    "This was an interesting question to explore because lifters who compete solo automatically place first place as long as they do not disqualify or \"bomb out\" of a meet. Therefore, if a lifer knows they are guaranteed a gold medal already, would they still take chances to choose heavier attempts for a chance of a PR or a better total? I know many lifters who try to gauge what their 2nd and 3rd attempts are going to be based off their competition, so would they not go 100% if they lifter by themselves? Here, we can see a statistical difference between lifters who competed solo and those who didn't, which was very interesting to see. Although the observed difference of means was only 34 pounds, those 34 pounds could be the differnece between 1st and 2nd place. Competitors who compete in physical strength/endurance competitions can only push themselves so much, as they are still limited by their physical body's capabilities. However, at a powerlifting meet, there are momemnts a lifter has to decide: \"Should I squat 424 for a PR but risk failing or squat 408 which I am 90% confident I can lift\" and now when you are competing with other people, you have to factor in what place you're trying to get as well. Again in this scenario, there are several confounding variables we did not account for, and we have an imbalanced dataset where the group that competed by themselves is significantly smaller than those who competed with other people. The differences in sample sizes can introduce biases and affect the validity of the causal inference."
   ]
  }
 ],
 "metadata": {
  "kernelspec": {
   "display_name": "Python 3",
   "language": "python",
   "name": "python3"
  },
  "language_info": {
   "codemirror_mode": {
    "name": "ipython",
    "version": 3
   },
   "file_extension": ".py",
   "mimetype": "text/x-python",
   "name": "python",
   "nbconvert_exporter": "python",
   "pygments_lexer": "ipython3",
   "version": "3.7.6"
  }
 },
 "nbformat": 4,
 "nbformat_minor": 4
}
